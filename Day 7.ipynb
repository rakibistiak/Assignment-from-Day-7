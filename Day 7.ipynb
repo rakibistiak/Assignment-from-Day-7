{
 "cells": [
  {
   "cell_type": "markdown",
   "id": "f5ac9770-43c5-4509-b23a-3d583cfaa47e",
   "metadata": {},
   "source": [
    "If Else Statement"
   ]
  },
  {
   "cell_type": "markdown",
   "id": "222e12ad-0bbf-4ea2-9468-383abd3127e9",
   "metadata": {},
   "source": [
    "Assignment 1 Take values of length and breadth of a rentangle from use and check is it square or not"
   ]
  },
  {
   "cell_type": "code",
   "execution_count": null,
   "id": "721e84aa-54d6-435b-9e19-6ccc7c5a5094",
   "metadata": {},
   "outputs": [],
   "source": [
    "length=input('please enter lenth in cm')\n",
    "print('You have entered lenth', length, 'cm')\n",
    "breadth=input('please enter breadth in cm')\n",
    "print('You have entered breadh', breadth, 'cm')\n",
    "if(length==breadth):\n",
    "    print(\"Yes!! this is a square\")\n",
    "else:\n",
    "    print(\"Based on your entered value this is not a Square\")"
   ]
  },
  {
   "cell_type": "markdown",
   "id": "879a0e80-e720-4883-be54-abf029731827",
   "metadata": {},
   "source": [
    "Assignment 2 collect 3 integers from user and find the greatest one"
   ]
  },
  {
   "cell_type": "code",
   "execution_count": null,
   "id": "dd7019ba-c41a-4804-9756-2b06f3e6a283",
   "metadata": {},
   "outputs": [],
   "source": [
    "x=int(input(\"Enter 1st number\"))\n",
    "y=int(input(\"Enter 2nd number\"))\n",
    "z=int(input(\"Enter 3rd number\"))\n",
    "if x==y==z:\n",
    "    print(\"All three number are same\")\n",
    "elif x>y:\n",
    "    if x>z:\n",
    "        print(\"X is greatest\")\n",
    "    elif z>y and z!=x:\n",
    "        print(\"Z is greatest\")\n",
    "    else:\n",
    "        print(\"X and Z are greatest\")\n",
    "elif y>z:\n",
    "    if y!=x:\n",
    "        print(\"Y is greatest\")\n",
    "    else:\n",
    "        print(\"X and Y are greatest\")\n",
    "else:\n",
    "    print(\"Z is greatest\")"
   ]
  },
  {
   "cell_type": "markdown",
   "id": "ed266739-5e90-455b-bde5-4fb050327d9d",
   "metadata": {},
   "source": [
    "Assignment 3 A studnet will not be allowed to sit in exam if his/her attendence is less that 75%"
   ]
  },
  {
   "cell_type": "code",
   "execution_count": null,
   "id": "4f81cc05-52d0-4acf-b152-3949ac6eb652",
   "metadata": {},
   "outputs": [],
   "source": [
    "total_class=int(input(\"Total class in this semester\"))\n",
    "attented_class=int(input(\"How many class student attended\"))\n",
    "class_percentage=round((attented_class*100)/total_class, 2)\n",
    "if(class_percentage>=75):\n",
    "    print(\"Your class attendence is\", class_percentage, \"%, So you are allowed for the exam\")\n",
    "else:\n",
    "    print(\"Your class attendence is\", class_percentage, \"%, Sorry!! you aren't allowed for the exam\")"
   ]
  },
  {
   "cell_type": "markdown",
   "id": "825e4a58-cff9-4144-b817-5b1f68e19013",
   "metadata": {},
   "source": [
    "Assignment 4 Below 25-F, 25 to 44 E, 45 to 59 D, 60 to 79 B, 80 to 89 A, 90+ A+, now ask user about their marks and grade them."
   ]
  },
  {
   "cell_type": "code",
   "execution_count": 22,
   "id": "ea6aca7c-ac88-4f0e-8d5e-32b221113710",
   "metadata": {},
   "outputs": [
    {
     "name": "stdin",
     "output_type": "stream",
     "text": [
      "Enter your mark 6.7\n"
     ]
    },
    {
     "name": "stdout",
     "output_type": "stream",
     "text": [
      "Grade F, Fail, try harder next time, good luck!!!\n"
     ]
    }
   ],
   "source": [
    "student_mark=float(input('Enter your mark'))\n",
    "if student_mark>=90:\n",
    "    print(\"Grade A+, Congratulations!!!\")\n",
    "elif student_mark>=80:\n",
    "    print(\"Grade A, Exellent!!\")\n",
    "elif student_mark>=60:\n",
    "    print(\"Grade B, Bettter!!\")\n",
    "elif student_mark>=45:\n",
    "    print(\"Grade D, Good but could be better\")\n",
    "elif student_mark>=25:\n",
    "    print(\"Grade E, not satisfactory!\")\n",
    "else:\n",
    "    print(\"Grade F, Fail, try harder next time, good luck!!!\")"
   ]
  },
  {
   "cell_type": "markdown",
   "id": "d4ea72f0-9a53-4e6b-a973-9a7faa7c4038",
   "metadata": {},
   "source": [
    "Assignment 5 Collect unit of electricity from user and calculate the bill\n",
    "first 100 unit    no charge\n",
    "next 100 unit     $5 per unit\n",
    "After 200 unit    $10 per unit (Extra $500 will be added)"
   ]
  },
  {
   "cell_type": "code",
   "execution_count": 32,
   "id": "3ed7640c-a5e7-4a6b-a6ba-45d0af700acd",
   "metadata": {},
   "outputs": [
    {
     "name": "stdin",
     "output_type": "stream",
     "text": [
      "Enter your unit 350\n"
     ]
    },
    {
     "name": "stdout",
     "output_type": "stream",
     "text": [
      "For 350.0 Unit, Your bill is $  2000.0\n"
     ]
    }
   ],
   "source": [
    "unit=float(input(\"Enter your unit\"))\n",
    "bill=0\n",
    "if unit<=100:\n",
    "    print(\"For\", unit, \"Unit, Your bill is $\", bill)\n",
    "elif unit<=200:\n",
    "    bill = (unit-100)*5\n",
    "    print(\"For\", unit, \"Unit, Your bill is $ \", bill)\n",
    "else:\n",
    "    bill=((unit-200)*10)+500\n",
    "    print(\"For\", unit, \"Unit, Your bill is $ \", bill)"
   ]
  },
  {
   "cell_type": "code",
   "execution_count": null,
   "id": "ef8aeec2-fa2b-4bf7-89a6-0781ff7f29d8",
   "metadata": {},
   "outputs": [],
   "source": []
  }
 ],
 "metadata": {
  "kernelspec": {
   "display_name": "Python 3 (ipykernel)",
   "language": "python",
   "name": "python3"
  },
  "language_info": {
   "codemirror_mode": {
    "name": "ipython",
    "version": 3
   },
   "file_extension": ".py",
   "mimetype": "text/x-python",
   "name": "python",
   "nbconvert_exporter": "python",
   "pygments_lexer": "ipython3",
   "version": "3.12.4"
  }
 },
 "nbformat": 4,
 "nbformat_minor": 5
}
